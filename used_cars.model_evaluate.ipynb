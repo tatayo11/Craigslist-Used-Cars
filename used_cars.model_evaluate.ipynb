{
 "cells": [
  {
   "cell_type": "markdown",
   "metadata": {},
   "source": [
    "# Model Evaluation"
   ]
  },
  {
   "cell_type": "code",
   "execution_count": 1,
   "metadata": {},
   "outputs": [],
   "source": [
    "%matplotlib inline"
   ]
  },
  {
   "cell_type": "markdown",
   "metadata": {},
   "source": [
    "## Load Results from text file"
   ]
  },
  {
   "cell_type": "code",
   "execution_count": 2,
   "metadata": {},
   "outputs": [],
   "source": [
    "f = open(\"deepLearningModel_Output.txt\", \"r\")\n",
    "f.readline()\n",
    "dlm_r2_train = f.readline().rsplit(':', 1)\n",
    "dlm_r2_train = round(float(dlm_r2_train[1]),2)\n",
    "\n",
    "dlm_RMSE_train = f.readline().rsplit(':', 1)\n",
    "dlm_RMSE_train = round(float(dlm_RMSE_train[1]),2)\n",
    "\n",
    "dlm_r2_test = f.readline().rsplit(':', 1)\n",
    "dlm_r2_test = round(float(dlm_r2_test[1]),2)\n",
    "\n",
    "dlm_RMSE_test = f.readline().rsplit(':', 1)\n",
    "dlm_RMSE_test = round(float(dlm_RMSE_test[1]),2)"
   ]
  },
  {
   "cell_type": "code",
   "execution_count": 3,
   "metadata": {},
   "outputs": [],
   "source": [
    "f = open(\"gbtModel_Output.txt\", \"r\")\n",
    "f.readline()\n",
    "gbt_r2_train = f.readline().rsplit(':', 1)\n",
    "gbt_r2_train = round(float(gbt_r2_train[1]),2)\n",
    "\n",
    "gbt_RMSE_train = f.readline().rsplit(':', 1)\n",
    "gbt_RMSE_train = round(float(gbt_RMSE_train[1]),2)\n",
    "\n",
    "gbt_r2_test = f.readline().rsplit(':', 1)\n",
    "gbt_r2_test = round(float(gbt_r2_test[1]),2)\n",
    "\n",
    "gbt_RMSE_test = f.readline().rsplit(':', 1)\n",
    "gbt_RMSE_test = round(float(gbt_RMSE_test[1]),2)"
   ]
  },
  {
   "cell_type": "code",
   "execution_count": 4,
   "metadata": {},
   "outputs": [],
   "source": [
    "f = open(\"lrModel_Output.txt\", \"r\")\n",
    "f.readline()\n",
    "lReg_r2_train = f.readline().rsplit(':', 1)\n",
    "lReg_r2_train = round(float(lReg_r2_train[1]),2)\n",
    "\n",
    "lReg_RMSE_train = f.readline().rsplit(':', 1)\n",
    "lReg_RMSE_train = round(float(lReg_RMSE_train[1]),2)\n",
    "\n",
    "lReg_r2_test = f.readline().rsplit(':', 1)\n",
    "lReg_r2_test = round(float(lReg_r2_test[1]),2)\n",
    "\n",
    "lReg_RMSE_test = f.readline().rsplit(':', 1)\n",
    "lReg_RMSE_test = round(float(lReg_RMSE_test[1]),2)"
   ]
  },
  {
   "cell_type": "markdown",
   "metadata": {},
   "source": [
    "## Visualize Results"
   ]
  },
  {
   "cell_type": "code",
   "execution_count": 6,
   "metadata": {},
   "outputs": [],
   "source": [
    "import matplotlib\n",
    "import matplotlib.pyplot as plt\n",
    "import numpy as np"
   ]
  },
  {
   "cell_type": "code",
   "execution_count": 8,
   "metadata": {},
   "outputs": [],
   "source": [
    "labels = ['Keras Model', 'Gradient Boosted Trees', 'Linear Regression']\n",
    "r2_train = [dlm_r2_train, gbt_r2_train, lReg_r2_train]\n",
    "r2_test = [dlm_r2_test, gbt_r2_test, lReg_r2_test]\n",
    "RMSE_train = [dlm_RMSE_train, gbt_RMSE_train, lReg_RMSE_train]\n",
    "RMSE_test = [dlm_RMSE_test, gbt_RMSE_test, lReg_RMSE_test]"
   ]
  },
  {
   "cell_type": "code",
   "execution_count": 9,
   "metadata": {},
   "outputs": [],
   "source": [
    "x = np.arange(len(labels))  # the label locations\n",
    "width = 0.35  # the width of the bars"
   ]
  },
  {
   "cell_type": "code",
   "execution_count": 20,
   "metadata": {},
   "outputs": [
    {
     "data": {
      "image/png": "[encoded data removed]",
      "text/plain": [
       "<Figure size 432x288 with 1 Axes>"
      ]
     },
     "metadata": {
      "needs_background": "light"
     },
     "output_type": "display_data"
    }
   ],
   "source": [
    "fig, ax = plt.subplots()\n",
    "rects1 = ax.bar(x - width/2, r2_train, width, label='r2 Train')\n",
    "rects2 = ax.bar(x + width/2, r2_test, width, label='r2 Test')\n",
    "\n",
    "# Add some text for labels, title and custom x-axis tick labels, etc.\n",
    "ax.set_ylabel('Scores')\n",
    "ax.set_title('Model r2 Scores')\n",
    "ax.set_xticks(x)\n",
    "ax.set_xticklabels(labels)\n",
    "ax.legend()\n",
    "\n",
    "def autolabel(rects):\n",
    "    \"\"\"Attach a text label above each bar in *rects*, displaying its height.\"\"\"\n",
    "    for rect in rects:\n",
    "        height = rect.get_height()\n",
    "        ax.annotate('{}'.format(height),\n",
    "                    xy=(rect.get_x() + rect.get_width() / 2, height),\n",
    "                    xytext=(0, 3),  # 3 points vertical offset\n",
    "                    textcoords=\"offset points\",\n",
    "                    ha='center', va='bottom')\n",
    "\n",
    "autolabel(rects1)\n",
    "autolabel(rects2)\n",
    "\n",
    "fig.tight_layout()\n",
    "plt.show()"
   ]
  },
  {
   "cell_type": "code",
   "execution_count": 21,
   "metadata": {},
   "outputs": [
    {
     "data": {
      "image/png": "[encoded data removed]",
      "text/plain": [
       "<Figure size 432x288 with 1 Axes>"
      ]
     },
     "metadata": {
      "needs_background": "light"
     },
     "output_type": "display_data"
    }
   ],
   "source": [
    "fig, ax = plt.subplots()\n",
    "\n",
    "rects1 = ax.bar(x - width/2, RMSE_train, width, label='RMSE Train')\n",
    "rects2 = ax.bar(x + width/2, RMSE_test, width, label='RMSE Test')\n",
    "\n",
    "# Add some text for labels, title and custom x-axis tick labels, etc.\n",
    "ax.set_ylabel('Scores')\n",
    "ax.set_title('Model RMSE Scores')\n",
    "ax.set_xticks(x)\n",
    "ax.set_xticklabels(labels)\n",
    "ax.legend()\n",
    "\n",
    "def autolabel(rects):\n",
    "    \"\"\"Attach a text label above each bar in *rects*, displaying its height.\"\"\"\n",
    "    for rect in rects:\n",
    "        height = rect.get_height()\n",
    "        ax.annotate('{}'.format(height),\n",
    "                    xy=(rect.get_x() + rect.get_width() / 2, height),\n",
    "                    xytext=(0, 3),  # 3 points vertical offset\n",
    "                    textcoords=\"offset points\",\n",
    "                    ha='center', va='bottom')\n",
    "\n",
    "autolabel(rects1)\n",
    "autolabel(rects2)\n",
    "\n",
    "fig.tight_layout()\n",
    "plt.show()"
   ]
  },
  {
   "cell_type": "code",
   "execution_count": null,
   "metadata": {},
   "outputs": [],
   "source": []
  }
 ],
 "metadata": {
  "kernelspec": {
   "display_name": "Python 3",
   "language": "python",
   "name": "python3"
  },
  "language_info": {
   "codemirror_mode": {
    "name": "ipython",
    "version": 3
   },
   "file_extension": ".py",
   "mimetype": "text/x-python",
   "name": "python",
   "nbconvert_exporter": "python",
   "pygments_lexer": "ipython3",
   "version": "3.6.10"
  }
 },
 "nbformat": 4,
 "nbformat_minor": 4
}
