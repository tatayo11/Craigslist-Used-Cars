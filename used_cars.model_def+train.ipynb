{
 "cells": [
  {
   "cell_type": "markdown",
   "metadata": {},
   "source": [
    "# Model Definition and Training"
   ]
  },
  {
   "cell_type": "code",
   "execution_count": 1,
   "metadata": {},
   "outputs": [],
   "source": [
    "import numpy as np\n",
    "import pandas as pd"
   ]
  },
  {
   "cell_type": "markdown",
   "metadata": {},
   "source": [
    "## Import Data"
   ]
  },
  {
   "cell_type": "code",
   "execution_count": 2,
   "metadata": {},
   "outputs": [],
   "source": [
    "df = pd.read_csv(\"C:/Users/sega9/Documents/IBM Data Science/Capstone/data/vehicles_clean.csv\")"
   ]
  },
  {
   "cell_type": "code",
   "execution_count": 3,
   "metadata": {},
   "outputs": [],
   "source": [
    "from pyspark import SparkContext, SparkConf\n",
    "from pyspark.sql import SparkSession"
   ]
  },
  {
   "cell_type": "code",
   "execution_count": 4,
   "metadata": {},
   "outputs": [],
   "source": [
    "sc = SparkContext.getOrCreate(SparkConf().setMaster(\"local[*]\"))\n",
    "\n",
    "spark = SparkSession \\\n",
    "    .builder \\\n",
    "    .getOrCreate()"
   ]
  },
  {
   "cell_type": "code",
   "execution_count": 5,
   "metadata": {},
   "outputs": [
    {
     "data": {
      "text/html": [
       "<div>\n",
       "<style scoped>\n",
       "    .dataframe tbody tr th:only-of-type {\n",
       "        vertical-align: middle;\n",
       "    }\n",
       "\n",
       "    .dataframe tbody tr th {\n",
       "        vertical-align: top;\n",
       "    }\n",
       "\n",
       "    .dataframe thead th {\n",
       "        text-align: right;\n",
       "    }\n",
       "</style>\n",
       "<table border=\"1\" class=\"dataframe\">\n",
       "  <thead>\n",
       "    <tr style=\"text-align: right;\">\n",
       "      <th></th>\n",
       "      <th>region</th>\n",
       "      <th>price</th>\n",
       "      <th>year</th>\n",
       "      <th>manufacturer</th>\n",
       "      <th>model</th>\n",
       "      <th>condition</th>\n",
       "      <th>cylinders</th>\n",
       "      <th>fuel</th>\n",
       "      <th>odometer</th>\n",
       "      <th>title_status</th>\n",
       "      <th>transmission</th>\n",
       "      <th>drive</th>\n",
       "      <th>type</th>\n",
       "      <th>paint_color</th>\n",
       "      <th>description_length</th>\n",
       "      <th>state</th>\n",
       "      <th>lat</th>\n",
       "      <th>long</th>\n",
       "    </tr>\n",
       "  </thead>\n",
       "  <tbody>\n",
       "    <tr>\n",
       "      <th>0</th>\n",
       "      <td>mohave county</td>\n",
       "      <td>9000</td>\n",
       "      <td>2004.0</td>\n",
       "      <td>chevrolet</td>\n",
       "      <td>colorado ls</td>\n",
       "      <td>excellent</td>\n",
       "      <td>5 cylinders</td>\n",
       "      <td>gas</td>\n",
       "      <td>54000.0</td>\n",
       "      <td>clean</td>\n",
       "      <td>automatic</td>\n",
       "      <td>rwd</td>\n",
       "      <td>pickup</td>\n",
       "      <td>red</td>\n",
       "      <td>470</td>\n",
       "      <td>az</td>\n",
       "      <td>34.4783</td>\n",
       "      <td>-114.2710</td>\n",
       "    </tr>\n",
       "    <tr>\n",
       "      <th>1</th>\n",
       "      <td>maine</td>\n",
       "      <td>8500</td>\n",
       "      <td>2005.0</td>\n",
       "      <td>ford</td>\n",
       "      <td>mustang convertible</td>\n",
       "      <td>excellent</td>\n",
       "      <td>6 cylinders</td>\n",
       "      <td>gas</td>\n",
       "      <td>62800.0</td>\n",
       "      <td>clean</td>\n",
       "      <td>automatic</td>\n",
       "      <td>rwd</td>\n",
       "      <td>convertible</td>\n",
       "      <td>silver</td>\n",
       "      <td>718</td>\n",
       "      <td>me</td>\n",
       "      <td>44.2070</td>\n",
       "      <td>-69.7858</td>\n",
       "    </tr>\n",
       "    <tr>\n",
       "      <th>2</th>\n",
       "      <td>maine</td>\n",
       "      <td>2750</td>\n",
       "      <td>2006.0</td>\n",
       "      <td>chevrolet</td>\n",
       "      <td>silverado 2500hd ext cab</td>\n",
       "      <td>good</td>\n",
       "      <td>8 cylinders</td>\n",
       "      <td>gas</td>\n",
       "      <td>165000.0</td>\n",
       "      <td>clean</td>\n",
       "      <td>automatic</td>\n",
       "      <td>4wd</td>\n",
       "      <td>truck</td>\n",
       "      <td>white</td>\n",
       "      <td>280</td>\n",
       "      <td>me</td>\n",
       "      <td>43.2899</td>\n",
       "      <td>-70.8550</td>\n",
       "    </tr>\n",
       "  </tbody>\n",
       "</table>\n",
       "</div>"
      ],
      "text/plain": [
       "          region  price    year manufacturer                     model  \\\n",
       "0  mohave county   9000  2004.0    chevrolet               colorado ls   \n",
       "1          maine   8500  2005.0         ford       mustang convertible   \n",
       "2          maine   2750  2006.0    chevrolet  silverado 2500hd ext cab   \n",
       "\n",
       "   condition    cylinders fuel  odometer title_status transmission drive  \\\n",
       "0  excellent  5 cylinders  gas   54000.0        clean    automatic   rwd   \n",
       "1  excellent  6 cylinders  gas   62800.0        clean    automatic   rwd   \n",
       "2       good  8 cylinders  gas  165000.0        clean    automatic   4wd   \n",
       "\n",
       "          type paint_color  description_length state      lat      long  \n",
       "0       pickup         red                 470    az  34.4783 -114.2710  \n",
       "1  convertible      silver                 718    me  44.2070  -69.7858  \n",
       "2        truck       white                 280    me  43.2899  -70.8550  "
      ]
     },
     "execution_count": 5,
     "metadata": {},
     "output_type": "execute_result"
    }
   ],
   "source": [
    "df_pd = df.drop(df.columns[0], axis=1)\n",
    "df_pd.head(3)"
   ]
  },
  {
   "cell_type": "code",
   "execution_count": 34,
   "metadata": {},
   "outputs": [],
   "source": [
    "from pyspark.sql import SQLContext\n",
    "sc = SparkContext.getOrCreate()\n",
    "sqlContext = SQLContext(sc)\n",
    "\n",
    "df = sqlContext.createDataFrame(df_pd)"
   ]
  },
  {
   "cell_type": "code",
   "execution_count": 35,
   "metadata": {},
   "outputs": [],
   "source": [
    "from pyspark.ml.feature import StringIndexer, OneHotEncoder\n",
    "from pyspark.ml.linalg import Vectors\n",
    "from pyspark.ml.feature import VectorAssembler\n",
    "from pyspark.ml.feature import Normalizer\n",
    "from pyspark.ml import Pipeline"
   ]
  },
  {
   "cell_type": "code",
   "execution_count": 36,
   "metadata": {},
   "outputs": [],
   "source": [
    "categorical_columns= [\"region\", \"manufacturer\", \"model\", \"condition\", \"cylinders\",\n",
    "                      \"fuel\", \"title_status\", \"transmission\", \"drive\", \"type\", \n",
    "                      \"paint_color\", \"state\"]\n",
    "\n",
    "# The index of string vlaues multiple columns\n",
    "indexers = [\n",
    "    StringIndexer(inputCol=c, outputCol=\"{0}_indexed\".format(c))\n",
    "    for c in categorical_columns\n",
    "]\n",
    "\n",
    "# The encode of indexed values multiple columns\n",
    "encoders = [OneHotEncoder(dropLast=False,inputCol=indexer.getOutputCol(),\n",
    "            outputCol=\"{0}_encoded\".format(indexer.getOutputCol())) \n",
    "    for indexer in indexers\n",
    "]\n",
    "\n",
    "# Vectorizing encoded values\n",
    "assembler = VectorAssembler(inputCols=[encoder.getOutputCol() for encoder in encoders],outputCol=\"catFeatures\")\n",
    "\n",
    "# Build pipeline of Indexer, encoder, assebler\n",
    "pipeline = Pipeline(stages=indexers + encoders+[assembler])\n",
    "model=pipeline.fit(df)\n",
    "transformed = model.transform(df)"
   ]
  },
  {
   "cell_type": "code",
   "execution_count": 37,
   "metadata": {},
   "outputs": [],
   "source": [
    "df_catFeat = transformed[[\"price\",\"year\",\"odometer\",\"description_length\",\"catFeatures\"]]"
   ]
  },
  {
   "cell_type": "code",
   "execution_count": 38,
   "metadata": {},
   "outputs": [],
   "source": [
    "vectorAssembler = VectorAssembler(inputCols=['year', 'odometer', 'description_length'],outputCol=\"features\")\n",
    "normalizer = Normalizer(inputCol=\"features\", outputCol=\"features_norm\", p=1.0)\n",
    "\n",
    "pipeline = Pipeline(stages=[vectorAssembler, normalizer])\n",
    "model=pipeline.fit(df_catFeat)\n",
    "df_feats = model.transform(df_catFeat)"
   ]
  },
  {
   "cell_type": "code",
   "execution_count": 39,
   "metadata": {},
   "outputs": [],
   "source": [
    "df_feats = df_feats.drop(\"year\").drop(\"odometer\").drop(\"description_length\").drop(\"features\")"
   ]
  },
  {
   "cell_type": "code",
   "execution_count": 40,
   "metadata": {},
   "outputs": [
    {
     "name": "stdout",
     "output_type": "stream",
     "text": [
      "+-----+--------------------+\n",
      "|price|            features|\n",
      "+-----+--------------------+\n",
      "| 9000|(13246,[212,403,2...|\n",
      "| 8500|(13246,[50,402,69...|\n",
      "| 2750|(13246,[50,403,11...|\n",
      "|24930|(13246,[218,412,7...|\n",
      "| 3200|(13246,[218,413,4...|\n",
      "+-----+--------------------+\n",
      "only showing top 5 rows\n",
      "\n"
     ]
    }
   ],
   "source": [
    "vectorAssembler = VectorAssembler(inputCols=['catFeatures', 'features_norm'],outputCol=\"features\")\n",
    "df = vectorAssembler.transform(df_feats)\n",
    "df = df.drop(\"features_norm\").drop(\"catFeatures\")\n",
    "df.show(5)"
   ]
  },
  {
   "cell_type": "code",
   "execution_count": 41,
   "metadata": {},
   "outputs": [
    {
     "name": "stdout",
     "output_type": "stream",
     "text": [
      "root\n",
      " |-- price: long (nullable = true)\n",
      " |-- features: vector (nullable = true)\n",
      "\n"
     ]
    }
   ],
   "source": [
    "df.printSchema()"
   ]
  },
  {
   "cell_type": "markdown",
   "metadata": {},
   "source": [
    "# Modeling"
   ]
  },
  {
   "cell_type": "code",
   "execution_count": 42,
   "metadata": {},
   "outputs": [],
   "source": [
    "# Define train and test data\n",
    "train_data, test_data=df.randomSplit([0.7,0.3])"
   ]
  },
  {
   "cell_type": "markdown",
   "metadata": {},
   "source": [
    "## Linear Regression"
   ]
  },
  {
   "cell_type": "code",
   "execution_count": 43,
   "metadata": {},
   "outputs": [],
   "source": [
    "from pyspark.ml.regression import LinearRegression\n",
    "from pyspark.ml.evaluation import RegressionEvaluator"
   ]
  },
  {
   "cell_type": "code",
   "execution_count": 44,
   "metadata": {},
   "outputs": [],
   "source": [
    "# Define model\n",
    "lr = LinearRegression(labelCol='price', maxIter=10, regParam=0.3, elasticNetParam=0.8)"
   ]
  },
  {
   "cell_type": "code",
   "execution_count": 45,
   "metadata": {},
   "outputs": [],
   "source": [
    "# Fit the model\n",
    "lrModel = lr.fit(train_data)"
   ]
  },
  {
   "cell_type": "code",
   "execution_count": 58,
   "metadata": {
    "scrolled": true
   },
   "outputs": [
    {
     "name": "stdout",
     "output_type": "stream",
     "text": [
      "numIterations: 11\n",
      "r2 on training data: 0.666785\n",
      "RMSE on training data: 5685.935140\n"
     ]
    }
   ],
   "source": [
    "# Summarize the model over the training set and print out metrics\n",
    "trainingSummary = lrModel.summary\n",
    "print(\"numIterations: %d\" % trainingSummary.totalIterations)\n",
    "print(\"r2 on training data: %f\" % trainingSummary.r2)\n",
    "print(\"RMSE on training data: %f\" % trainingSummary.rootMeanSquaredError)"
   ]
  },
  {
   "cell_type": "code",
   "execution_count": 47,
   "metadata": {},
   "outputs": [
    {
     "name": "stdout",
     "output_type": "stream",
     "text": [
      "+-----+--------------------+------------------+\n",
      "|price|            features|        prediction|\n",
      "+-----+--------------------+------------------+\n",
      "|  306|(13246,[103,407,1...|19345.507023652455|\n",
      "|  314|(13246,[61,402,13...|21086.501840624744|\n",
      "|  350|(13246,[132,416,3...| 4925.806809996933|\n",
      "|  350|(13246,[168,403,4...| 8350.041183220435|\n",
      "|  399|(13246,[110,403,4...| 8081.797793222678|\n",
      "+-----+--------------------+------------------+\n",
      "only showing top 5 rows\n",
      "\n",
      "r2 on test data = 0.550191\n",
      "RMSE on test data = 6683.25\n"
     ]
    }
   ],
   "source": [
    "# Test model on test data set and print out metrics\n",
    "lr_predictions = lrModel.transform(test_data)\n",
    "lr_predictions.show(5)\n",
    "\n",
    "lr_evaluator = RegressionEvaluator(predictionCol=\"prediction\", labelCol=\"price\", metricName=\"r2\")\n",
    "print(\"r2 on test data = %g\" % lr_evaluator.evaluate(lr_predictions))\n",
    "\n",
    "test_result = lrModel.evaluate(test_data)\n",
    "print(\"RMSE on test data = %g\" % test_result.rootMeanSquaredError)"
   ]
  },
  {
   "cell_type": "code",
   "execution_count": 115,
   "metadata": {},
   "outputs": [],
   "source": [
    "# Write results to text file\n",
    "text_file = open(\"lrModel_Output.txt\", \"w\")\n",
    "text_file.write(\"Linear Regression Model Results:\")\n",
    "text_file.write(\"\\nr2 on training data: %f\" % trainingSummary.r2)\n",
    "text_file.write(\"\\nRMSE on training data: %f\" % trainingSummary.rootMeanSquaredError)\n",
    "\n",
    "text_file.write(\"\\nr2 on test data: %g\" % lr_evaluator.evaluate(lr_predictions))\n",
    "text_file.write(\"\\nRMSE on test data: %g\" % test_result.rootMeanSquaredError)\n",
    "text_file.close()"
   ]
  },
  {
   "cell_type": "code",
   "execution_count": 32,
   "metadata": {},
   "outputs": [],
   "source": [
    "# Save Model\n",
    "lrModel.write().overwrite().save(sc,\"C:/Users/sega9/Documents/IBM Data Science/Capstone/Models/linReg.model\")"
   ]
  },
  {
   "cell_type": "markdown",
   "metadata": {},
   "source": [
    "## Gradient Boosted Trees Regression"
   ]
  },
  {
   "cell_type": "code",
   "execution_count": 59,
   "metadata": {},
   "outputs": [],
   "source": [
    "from pyspark.ml.regression import GBTRegressor"
   ]
  },
  {
   "cell_type": "code",
   "execution_count": 60,
   "metadata": {},
   "outputs": [],
   "source": [
    "# Define model\n",
    "gbt = GBTRegressor(featuresCol = 'features', labelCol = 'price', maxIter=10)\n",
    "gbt_model = gbt.fit(train_data)"
   ]
  },
  {
   "cell_type": "code",
   "execution_count": 61,
   "metadata": {},
   "outputs": [
    {
     "name": "stdout",
     "output_type": "stream",
     "text": [
      "+------------------+-----+--------------------+\n",
      "|        prediction|price|            features|\n",
      "+------------------+-----+--------------------+\n",
      "|2141.5283505721954|  300|(13246,[113,403,9...|\n",
      "| 6488.882399906475|  300|(13246,[272,410,5...|\n",
      "|13350.254924315772|  323|(13246,[172,403,8...|\n",
      "|21466.787244145773|  334|(13246,[12,402,50...|\n",
      "|29724.451495718804|  334|(13246,[183,403,6...|\n",
      "+------------------+-----+--------------------+\n",
      "only showing top 5 rows\n",
      "\n"
     ]
    }
   ],
   "source": [
    "gbt_predictions = gbt_model.transform(train_data)\n",
    "gbt_predictions.select('prediction', 'price', 'features').show(5)"
   ]
  },
  {
   "cell_type": "code",
   "execution_count": 62,
   "metadata": {},
   "outputs": [
    {
     "name": "stdout",
     "output_type": "stream",
     "text": [
      "r2 on training data = 0.629928\n",
      "RMSE on training data = 5992.15\n"
     ]
    }
   ],
   "source": [
    "# Summarize the model over the training set and print out metrics\n",
    "gbt_evaluator = RegressionEvaluator(labelCol=\"price\", predictionCol=\"prediction\", metricName=\"r2\")\n",
    "r2 = gbt_evaluator.evaluate(gbt_predictions)\n",
    "print(\"r2 on training data = %g\" % r2)\n",
    "\n",
    "gbt_evaluator = RegressionEvaluator(labelCol=\"price\", predictionCol=\"prediction\", metricName=\"rmse\")\n",
    "rmse = gbt_evaluator.evaluate(gbt_predictions)\n",
    "print(\"RMSE on training data = %g\" % rmse)"
   ]
  },
  {
   "cell_type": "code",
   "execution_count": 63,
   "metadata": {},
   "outputs": [
    {
     "name": "stdout",
     "output_type": "stream",
     "text": [
      "r2 on test data = 0.615941\n",
      "RMSE on test data = 6175.51\n"
     ]
    }
   ],
   "source": [
    "# Test model on test data set and print out metrics\n",
    "gbt_predictions = gbt_model.transform(test_data)\n",
    "\n",
    "gbt_evaluator = RegressionEvaluator(labelCol=\"price\", predictionCol=\"prediction\", metricName=\"r2\")\n",
    "r2 = gbt_evaluator.evaluate(gbt_predictions)\n",
    "print(\"r2 on test data = %g\" % r2)\n",
    "\n",
    "gbt_evaluator = RegressionEvaluator(labelCol=\"price\", predictionCol=\"prediction\", metricName=\"rmse\")\n",
    "rmse = gbt_evaluator.evaluate(gbt_predictions)\n",
    "print(\"RMSE on test data = %g\" % rmse)"
   ]
  },
  {
   "cell_type": "code",
   "execution_count": 116,
   "metadata": {},
   "outputs": [],
   "source": [
    "# Write results to text file\n",
    "text_file = open(\"gbtModel_Output.txt\", \"w\")\n",
    "text_file.write(\"Gradient Boosted Trees Model Results:\")\n",
    "text_file.write(\"\\nr2 on training data: %g\" % r2)\n",
    "text_file.write(\"\\nRMSE on training data: %g\" % rmse)\n",
    "\n",
    "text_file.write(\"\\nr2 on test data: %g\" % r2)\n",
    "text_file.write(\"\\nRMSE on test data: %g\" % rmse)\n",
    "text_file.close()"
   ]
  },
  {
   "cell_type": "code",
   "execution_count": 38,
   "metadata": {},
   "outputs": [],
   "source": [
    "# Save Model\n",
    "gbt_model.write().overwrite().save(sc,\"C:/Users/sega9/Documents/IBM Data Science/Capstone/Models/gbt.model\")"
   ]
  },
  {
   "cell_type": "markdown",
   "metadata": {},
   "source": [
    "## Deep Learning Model"
   ]
  },
  {
   "cell_type": "code",
   "execution_count": 6,
   "metadata": {},
   "outputs": [],
   "source": [
    "df_pd = df_pd[[ 'price', 'year', 'odometer', 'description_length', 'lat', 'long',\n",
    "         'region', 'manufacturer', 'model', 'condition',\n",
    "         'cylinders', 'fuel', 'title_status', 'transmission',\n",
    "         'drive', 'type', 'paint_color', 'state']]"
   ]
  },
  {
   "cell_type": "code",
   "execution_count": 7,
   "metadata": {},
   "outputs": [],
   "source": [
    "# Drop columns to help processing time\n",
    "# Model and region have 33701 and 403 unique values, removing these massively reduces pocessing time\n",
    "df_pd = df_pd.drop(columns=['model', 'region'])"
   ]
  },
  {
   "cell_type": "code",
   "execution_count": 8,
   "metadata": {
    "scrolled": true
   },
   "outputs": [
    {
     "data": {
      "text/html": [
       "<div>\n",
       "<style scoped>\n",
       "    .dataframe tbody tr th:only-of-type {\n",
       "        vertical-align: middle;\n",
       "    }\n",
       "\n",
       "    .dataframe tbody tr th {\n",
       "        vertical-align: top;\n",
       "    }\n",
       "\n",
       "    .dataframe thead th {\n",
       "        text-align: right;\n",
       "    }\n",
       "</style>\n",
       "<table border=\"1\" class=\"dataframe\">\n",
       "  <thead>\n",
       "    <tr style=\"text-align: right;\">\n",
       "      <th></th>\n",
       "      <th>price</th>\n",
       "      <th>year</th>\n",
       "      <th>odometer</th>\n",
       "      <th>description_length</th>\n",
       "      <th>lat</th>\n",
       "      <th>long</th>\n",
       "      <th>manufacturer</th>\n",
       "      <th>condition</th>\n",
       "      <th>cylinders</th>\n",
       "      <th>fuel</th>\n",
       "      <th>title_status</th>\n",
       "      <th>transmission</th>\n",
       "      <th>drive</th>\n",
       "      <th>type</th>\n",
       "      <th>paint_color</th>\n",
       "      <th>state</th>\n",
       "    </tr>\n",
       "  </thead>\n",
       "  <tbody>\n",
       "    <tr>\n",
       "      <th>0</th>\n",
       "      <td>9000</td>\n",
       "      <td>2004.0</td>\n",
       "      <td>54000.0</td>\n",
       "      <td>470</td>\n",
       "      <td>34.4783</td>\n",
       "      <td>-114.2710</td>\n",
       "      <td>chevrolet</td>\n",
       "      <td>excellent</td>\n",
       "      <td>5 cylinders</td>\n",
       "      <td>gas</td>\n",
       "      <td>clean</td>\n",
       "      <td>automatic</td>\n",
       "      <td>rwd</td>\n",
       "      <td>pickup</td>\n",
       "      <td>red</td>\n",
       "      <td>az</td>\n",
       "    </tr>\n",
       "    <tr>\n",
       "      <th>1</th>\n",
       "      <td>8500</td>\n",
       "      <td>2005.0</td>\n",
       "      <td>62800.0</td>\n",
       "      <td>718</td>\n",
       "      <td>44.2070</td>\n",
       "      <td>-69.7858</td>\n",
       "      <td>ford</td>\n",
       "      <td>excellent</td>\n",
       "      <td>6 cylinders</td>\n",
       "      <td>gas</td>\n",
       "      <td>clean</td>\n",
       "      <td>automatic</td>\n",
       "      <td>rwd</td>\n",
       "      <td>convertible</td>\n",
       "      <td>silver</td>\n",
       "      <td>me</td>\n",
       "    </tr>\n",
       "    <tr>\n",
       "      <th>2</th>\n",
       "      <td>2750</td>\n",
       "      <td>2006.0</td>\n",
       "      <td>165000.0</td>\n",
       "      <td>280</td>\n",
       "      <td>43.2899</td>\n",
       "      <td>-70.8550</td>\n",
       "      <td>chevrolet</td>\n",
       "      <td>good</td>\n",
       "      <td>8 cylinders</td>\n",
       "      <td>gas</td>\n",
       "      <td>clean</td>\n",
       "      <td>automatic</td>\n",
       "      <td>4wd</td>\n",
       "      <td>truck</td>\n",
       "      <td>white</td>\n",
       "      <td>me</td>\n",
       "    </tr>\n",
       "    <tr>\n",
       "      <th>3</th>\n",
       "      <td>24930</td>\n",
       "      <td>2017.0</td>\n",
       "      <td>32989.0</td>\n",
       "      <td>978</td>\n",
       "      <td>45.6546</td>\n",
       "      <td>-110.5610</td>\n",
       "      <td>subaru</td>\n",
       "      <td>excellent</td>\n",
       "      <td>4 cylinders</td>\n",
       "      <td>gas</td>\n",
       "      <td>clean</td>\n",
       "      <td>automatic</td>\n",
       "      <td>4wd</td>\n",
       "      <td>SUV</td>\n",
       "      <td>grey</td>\n",
       "      <td>mt</td>\n",
       "    </tr>\n",
       "    <tr>\n",
       "      <th>4</th>\n",
       "      <td>3200</td>\n",
       "      <td>1998.0</td>\n",
       "      <td>98186.0</td>\n",
       "      <td>193</td>\n",
       "      <td>46.7074</td>\n",
       "      <td>-111.9580</td>\n",
       "      <td>volkswagen</td>\n",
       "      <td>good</td>\n",
       "      <td>4 cylinders</td>\n",
       "      <td>gas</td>\n",
       "      <td>clean</td>\n",
       "      <td>manual</td>\n",
       "      <td>rwd</td>\n",
       "      <td>coupe</td>\n",
       "      <td>blue</td>\n",
       "      <td>mt</td>\n",
       "    </tr>\n",
       "  </tbody>\n",
       "</table>\n",
       "</div>"
      ],
      "text/plain": [
       "   price    year  odometer  description_length      lat      long  \\\n",
       "0   9000  2004.0   54000.0                 470  34.4783 -114.2710   \n",
       "1   8500  2005.0   62800.0                 718  44.2070  -69.7858   \n",
       "2   2750  2006.0  165000.0                 280  43.2899  -70.8550   \n",
       "3  24930  2017.0   32989.0                 978  45.6546 -110.5610   \n",
       "4   3200  1998.0   98186.0                 193  46.7074 -111.9580   \n",
       "\n",
       "  manufacturer  condition    cylinders fuel title_status transmission drive  \\\n",
       "0    chevrolet  excellent  5 cylinders  gas        clean    automatic   rwd   \n",
       "1         ford  excellent  6 cylinders  gas        clean    automatic   rwd   \n",
       "2    chevrolet       good  8 cylinders  gas        clean    automatic   4wd   \n",
       "3       subaru  excellent  4 cylinders  gas        clean    automatic   4wd   \n",
       "4   volkswagen       good  4 cylinders  gas        clean       manual   rwd   \n",
       "\n",
       "          type paint_color state  \n",
       "0       pickup         red    az  \n",
       "1  convertible      silver    me  \n",
       "2        truck       white    me  \n",
       "3          SUV        grey    mt  \n",
       "4        coupe        blue    mt  "
      ]
     },
     "execution_count": 8,
     "metadata": {},
     "output_type": "execute_result"
    }
   ],
   "source": [
    "df_pd.head()"
   ]
  },
  {
   "cell_type": "markdown",
   "metadata": {},
   "source": [
    "### Encoding for model"
   ]
  },
  {
   "cell_type": "code",
   "execution_count": 9,
   "metadata": {},
   "outputs": [],
   "source": [
    "from sklearn.preprocessing import LabelEncoder, OneHotEncoder"
   ]
  },
  {
   "cell_type": "code",
   "execution_count": 10,
   "metadata": {
    "scrolled": true
   },
   "outputs": [
    {
     "data": {
      "text/html": [
       "<div>\n",
       "<style scoped>\n",
       "    .dataframe tbody tr th:only-of-type {\n",
       "        vertical-align: middle;\n",
       "    }\n",
       "\n",
       "    .dataframe tbody tr th {\n",
       "        vertical-align: top;\n",
       "    }\n",
       "\n",
       "    .dataframe thead th {\n",
       "        text-align: right;\n",
       "    }\n",
       "</style>\n",
       "<table border=\"1\" class=\"dataframe\">\n",
       "  <thead>\n",
       "    <tr style=\"text-align: right;\">\n",
       "      <th></th>\n",
       "      <th>price</th>\n",
       "      <th>year</th>\n",
       "      <th>odometer</th>\n",
       "      <th>description_length</th>\n",
       "      <th>lat</th>\n",
       "      <th>long</th>\n",
       "    </tr>\n",
       "  </thead>\n",
       "  <tbody>\n",
       "    <tr>\n",
       "      <th>0</th>\n",
       "      <td>9000</td>\n",
       "      <td>2004.0</td>\n",
       "      <td>54000.0</td>\n",
       "      <td>470</td>\n",
       "      <td>34.4783</td>\n",
       "      <td>-114.2710</td>\n",
       "    </tr>\n",
       "    <tr>\n",
       "      <th>1</th>\n",
       "      <td>8500</td>\n",
       "      <td>2005.0</td>\n",
       "      <td>62800.0</td>\n",
       "      <td>718</td>\n",
       "      <td>44.2070</td>\n",
       "      <td>-69.7858</td>\n",
       "    </tr>\n",
       "    <tr>\n",
       "      <th>2</th>\n",
       "      <td>2750</td>\n",
       "      <td>2006.0</td>\n",
       "      <td>165000.0</td>\n",
       "      <td>280</td>\n",
       "      <td>43.2899</td>\n",
       "      <td>-70.8550</td>\n",
       "    </tr>\n",
       "    <tr>\n",
       "      <th>3</th>\n",
       "      <td>24930</td>\n",
       "      <td>2017.0</td>\n",
       "      <td>32989.0</td>\n",
       "      <td>978</td>\n",
       "      <td>45.6546</td>\n",
       "      <td>-110.5610</td>\n",
       "    </tr>\n",
       "    <tr>\n",
       "      <th>4</th>\n",
       "      <td>3200</td>\n",
       "      <td>1998.0</td>\n",
       "      <td>98186.0</td>\n",
       "      <td>193</td>\n",
       "      <td>46.7074</td>\n",
       "      <td>-111.9580</td>\n",
       "    </tr>\n",
       "    <tr>\n",
       "      <th>...</th>\n",
       "      <td>...</td>\n",
       "      <td>...</td>\n",
       "      <td>...</td>\n",
       "      <td>...</td>\n",
       "      <td>...</td>\n",
       "      <td>...</td>\n",
       "    </tr>\n",
       "    <tr>\n",
       "      <th>117024</th>\n",
       "      <td>6900</td>\n",
       "      <td>2008.0</td>\n",
       "      <td>210994.0</td>\n",
       "      <td>249</td>\n",
       "      <td>43.8636</td>\n",
       "      <td>-95.1138</td>\n",
       "    </tr>\n",
       "    <tr>\n",
       "      <th>117025</th>\n",
       "      <td>29930</td>\n",
       "      <td>2016.0</td>\n",
       "      <td>30383.0</td>\n",
       "      <td>2371</td>\n",
       "      <td>44.0805</td>\n",
       "      <td>-103.2310</td>\n",
       "    </tr>\n",
       "    <tr>\n",
       "      <th>117026</th>\n",
       "      <td>24900</td>\n",
       "      <td>2017.0</td>\n",
       "      <td>27100.0</td>\n",
       "      <td>736</td>\n",
       "      <td>45.6546</td>\n",
       "      <td>-110.5610</td>\n",
       "    </tr>\n",
       "    <tr>\n",
       "      <th>117027</th>\n",
       "      <td>46995</td>\n",
       "      <td>2019.0</td>\n",
       "      <td>55000.0</td>\n",
       "      <td>493</td>\n",
       "      <td>34.8001</td>\n",
       "      <td>-82.3932</td>\n",
       "    </tr>\n",
       "    <tr>\n",
       "      <th>117028</th>\n",
       "      <td>2450</td>\n",
       "      <td>2001.0</td>\n",
       "      <td>130484.0</td>\n",
       "      <td>344</td>\n",
       "      <td>45.5272</td>\n",
       "      <td>-123.0950</td>\n",
       "    </tr>\n",
       "  </tbody>\n",
       "</table>\n",
       "<p>117029 rows × 6 columns</p>\n",
       "</div>"
      ],
      "text/plain": [
       "        price    year  odometer  description_length      lat      long\n",
       "0        9000  2004.0   54000.0                 470  34.4783 -114.2710\n",
       "1        8500  2005.0   62800.0                 718  44.2070  -69.7858\n",
       "2        2750  2006.0  165000.0                 280  43.2899  -70.8550\n",
       "3       24930  2017.0   32989.0                 978  45.6546 -110.5610\n",
       "4        3200  1998.0   98186.0                 193  46.7074 -111.9580\n",
       "...       ...     ...       ...                 ...      ...       ...\n",
       "117024   6900  2008.0  210994.0                 249  43.8636  -95.1138\n",
       "117025  29930  2016.0   30383.0                2371  44.0805 -103.2310\n",
       "117026  24900  2017.0   27100.0                 736  45.6546 -110.5610\n",
       "117027  46995  2019.0   55000.0                 493  34.8001  -82.3932\n",
       "117028   2450  2001.0  130484.0                 344  45.5272 -123.0950\n",
       "\n",
       "[117029 rows x 6 columns]"
      ]
     },
     "execution_count": 10,
     "metadata": {},
     "output_type": "execute_result"
    }
   ],
   "source": [
    "df_pd.iloc[:,:6]"
   ]
  },
  {
   "cell_type": "code",
   "execution_count": 11,
   "metadata": {},
   "outputs": [],
   "source": [
    "le = LabelEncoder()\n",
    "\n",
    "df_encoded = df_pd.iloc[:,6:].apply(le.fit_transform)"
   ]
  },
  {
   "cell_type": "code",
   "execution_count": 12,
   "metadata": {},
   "outputs": [
    {
     "data": {
      "text/html": [
       "<div>\n",
       "<style scoped>\n",
       "    .dataframe tbody tr th:only-of-type {\n",
       "        vertical-align: middle;\n",
       "    }\n",
       "\n",
       "    .dataframe tbody tr th {\n",
       "        vertical-align: top;\n",
       "    }\n",
       "\n",
       "    .dataframe thead th {\n",
       "        text-align: right;\n",
       "    }\n",
       "</style>\n",
       "<table border=\"1\" class=\"dataframe\">\n",
       "  <thead>\n",
       "    <tr style=\"text-align: right;\">\n",
       "      <th></th>\n",
       "      <th>manufacturer</th>\n",
       "      <th>condition</th>\n",
       "      <th>cylinders</th>\n",
       "      <th>fuel</th>\n",
       "      <th>title_status</th>\n",
       "      <th>transmission</th>\n",
       "      <th>drive</th>\n",
       "      <th>type</th>\n",
       "      <th>paint_color</th>\n",
       "      <th>state</th>\n",
       "    </tr>\n",
       "  </thead>\n",
       "  <tbody>\n",
       "    <tr>\n",
       "      <th>0</th>\n",
       "      <td>7</td>\n",
       "      <td>0</td>\n",
       "      <td>4</td>\n",
       "      <td>2</td>\n",
       "      <td>0</td>\n",
       "      <td>0</td>\n",
       "      <td>2</td>\n",
       "      <td>8</td>\n",
       "      <td>8</td>\n",
       "      <td>3</td>\n",
       "    </tr>\n",
       "    <tr>\n",
       "      <th>1</th>\n",
       "      <td>13</td>\n",
       "      <td>0</td>\n",
       "      <td>5</td>\n",
       "      <td>2</td>\n",
       "      <td>0</td>\n",
       "      <td>0</td>\n",
       "      <td>2</td>\n",
       "      <td>2</td>\n",
       "      <td>9</td>\n",
       "      <td>21</td>\n",
       "    </tr>\n",
       "    <tr>\n",
       "      <th>2</th>\n",
       "      <td>7</td>\n",
       "      <td>2</td>\n",
       "      <td>6</td>\n",
       "      <td>2</td>\n",
       "      <td>0</td>\n",
       "      <td>0</td>\n",
       "      <td>0</td>\n",
       "      <td>10</td>\n",
       "      <td>10</td>\n",
       "      <td>21</td>\n",
       "    </tr>\n",
       "    <tr>\n",
       "      <th>3</th>\n",
       "      <td>37</td>\n",
       "      <td>0</td>\n",
       "      <td>3</td>\n",
       "      <td>2</td>\n",
       "      <td>0</td>\n",
       "      <td>0</td>\n",
       "      <td>0</td>\n",
       "      <td>0</td>\n",
       "      <td>5</td>\n",
       "      <td>26</td>\n",
       "    </tr>\n",
       "    <tr>\n",
       "      <th>4</th>\n",
       "      <td>40</td>\n",
       "      <td>2</td>\n",
       "      <td>3</td>\n",
       "      <td>2</td>\n",
       "      <td>0</td>\n",
       "      <td>1</td>\n",
       "      <td>2</td>\n",
       "      <td>3</td>\n",
       "      <td>1</td>\n",
       "      <td>26</td>\n",
       "    </tr>\n",
       "  </tbody>\n",
       "</table>\n",
       "</div>"
      ],
      "text/plain": [
       "   manufacturer  condition  cylinders  fuel  title_status  transmission  \\\n",
       "0             7          0          4     2             0             0   \n",
       "1            13          0          5     2             0             0   \n",
       "2             7          2          6     2             0             0   \n",
       "3            37          0          3     2             0             0   \n",
       "4            40          2          3     2             0             1   \n",
       "\n",
       "   drive  type  paint_color  state  \n",
       "0      2     8            8      3  \n",
       "1      2     2            9     21  \n",
       "2      0    10           10     21  \n",
       "3      0     0            5     26  \n",
       "4      2     3            1     26  "
      ]
     },
     "execution_count": 12,
     "metadata": {},
     "output_type": "execute_result"
    }
   ],
   "source": [
    "df_encoded.head()"
   ]
  },
  {
   "cell_type": "code",
   "execution_count": 13,
   "metadata": {},
   "outputs": [],
   "source": [
    "df_dummies = pd.get_dummies(data=df_encoded, columns=df_encoded.columns)"
   ]
  },
  {
   "cell_type": "code",
   "execution_count": 14,
   "metadata": {},
   "outputs": [],
   "source": [
    "dfModel = pd.concat([df_pd.iloc[:,:6], df_dummies], axis=1)"
   ]
  },
  {
   "cell_type": "code",
   "execution_count": 15,
   "metadata": {},
   "outputs": [],
   "source": [
    "dfModel = dfModel.drop(columns=['lat', 'long'])"
   ]
  },
  {
   "cell_type": "code",
   "execution_count": 16,
   "metadata": {},
   "outputs": [
    {
     "data": {
      "text/html": [
       "<div>\n",
       "<style scoped>\n",
       "    .dataframe tbody tr th:only-of-type {\n",
       "        vertical-align: middle;\n",
       "    }\n",
       "\n",
       "    .dataframe tbody tr th {\n",
       "        vertical-align: top;\n",
       "    }\n",
       "\n",
       "    .dataframe thead th {\n",
       "        text-align: right;\n",
       "    }\n",
       "</style>\n",
       "<table border=\"1\" class=\"dataframe\">\n",
       "  <thead>\n",
       "    <tr style=\"text-align: right;\">\n",
       "      <th></th>\n",
       "      <th>price</th>\n",
       "      <th>year</th>\n",
       "      <th>odometer</th>\n",
       "      <th>description_length</th>\n",
       "      <th>manufacturer_0</th>\n",
       "      <th>manufacturer_1</th>\n",
       "      <th>manufacturer_2</th>\n",
       "      <th>manufacturer_3</th>\n",
       "      <th>manufacturer_4</th>\n",
       "      <th>manufacturer_5</th>\n",
       "      <th>...</th>\n",
       "      <th>state_41</th>\n",
       "      <th>state_42</th>\n",
       "      <th>state_43</th>\n",
       "      <th>state_44</th>\n",
       "      <th>state_45</th>\n",
       "      <th>state_46</th>\n",
       "      <th>state_47</th>\n",
       "      <th>state_48</th>\n",
       "      <th>state_49</th>\n",
       "      <th>state_50</th>\n",
       "    </tr>\n",
       "  </thead>\n",
       "  <tbody>\n",
       "    <tr>\n",
       "      <th>0</th>\n",
       "      <td>9000</td>\n",
       "      <td>2004.0</td>\n",
       "      <td>54000.0</td>\n",
       "      <td>470</td>\n",
       "      <td>0</td>\n",
       "      <td>0</td>\n",
       "      <td>0</td>\n",
       "      <td>0</td>\n",
       "      <td>0</td>\n",
       "      <td>0</td>\n",
       "      <td>...</td>\n",
       "      <td>0</td>\n",
       "      <td>0</td>\n",
       "      <td>0</td>\n",
       "      <td>0</td>\n",
       "      <td>0</td>\n",
       "      <td>0</td>\n",
       "      <td>0</td>\n",
       "      <td>0</td>\n",
       "      <td>0</td>\n",
       "      <td>0</td>\n",
       "    </tr>\n",
       "    <tr>\n",
       "      <th>1</th>\n",
       "      <td>8500</td>\n",
       "      <td>2005.0</td>\n",
       "      <td>62800.0</td>\n",
       "      <td>718</td>\n",
       "      <td>0</td>\n",
       "      <td>0</td>\n",
       "      <td>0</td>\n",
       "      <td>0</td>\n",
       "      <td>0</td>\n",
       "      <td>0</td>\n",
       "      <td>...</td>\n",
       "      <td>0</td>\n",
       "      <td>0</td>\n",
       "      <td>0</td>\n",
       "      <td>0</td>\n",
       "      <td>0</td>\n",
       "      <td>0</td>\n",
       "      <td>0</td>\n",
       "      <td>0</td>\n",
       "      <td>0</td>\n",
       "      <td>0</td>\n",
       "    </tr>\n",
       "    <tr>\n",
       "      <th>2</th>\n",
       "      <td>2750</td>\n",
       "      <td>2006.0</td>\n",
       "      <td>165000.0</td>\n",
       "      <td>280</td>\n",
       "      <td>0</td>\n",
       "      <td>0</td>\n",
       "      <td>0</td>\n",
       "      <td>0</td>\n",
       "      <td>0</td>\n",
       "      <td>0</td>\n",
       "      <td>...</td>\n",
       "      <td>0</td>\n",
       "      <td>0</td>\n",
       "      <td>0</td>\n",
       "      <td>0</td>\n",
       "      <td>0</td>\n",
       "      <td>0</td>\n",
       "      <td>0</td>\n",
       "      <td>0</td>\n",
       "      <td>0</td>\n",
       "      <td>0</td>\n",
       "    </tr>\n",
       "    <tr>\n",
       "      <th>3</th>\n",
       "      <td>24930</td>\n",
       "      <td>2017.0</td>\n",
       "      <td>32989.0</td>\n",
       "      <td>978</td>\n",
       "      <td>0</td>\n",
       "      <td>0</td>\n",
       "      <td>0</td>\n",
       "      <td>0</td>\n",
       "      <td>0</td>\n",
       "      <td>0</td>\n",
       "      <td>...</td>\n",
       "      <td>0</td>\n",
       "      <td>0</td>\n",
       "      <td>0</td>\n",
       "      <td>0</td>\n",
       "      <td>0</td>\n",
       "      <td>0</td>\n",
       "      <td>0</td>\n",
       "      <td>0</td>\n",
       "      <td>0</td>\n",
       "      <td>0</td>\n",
       "    </tr>\n",
       "    <tr>\n",
       "      <th>4</th>\n",
       "      <td>3200</td>\n",
       "      <td>1998.0</td>\n",
       "      <td>98186.0</td>\n",
       "      <td>193</td>\n",
       "      <td>0</td>\n",
       "      <td>0</td>\n",
       "      <td>0</td>\n",
       "      <td>0</td>\n",
       "      <td>0</td>\n",
       "      <td>0</td>\n",
       "      <td>...</td>\n",
       "      <td>0</td>\n",
       "      <td>0</td>\n",
       "      <td>0</td>\n",
       "      <td>0</td>\n",
       "      <td>0</td>\n",
       "      <td>0</td>\n",
       "      <td>0</td>\n",
       "      <td>0</td>\n",
       "      <td>0</td>\n",
       "      <td>0</td>\n",
       "    </tr>\n",
       "    <tr>\n",
       "      <th>...</th>\n",
       "      <td>...</td>\n",
       "      <td>...</td>\n",
       "      <td>...</td>\n",
       "      <td>...</td>\n",
       "      <td>...</td>\n",
       "      <td>...</td>\n",
       "      <td>...</td>\n",
       "      <td>...</td>\n",
       "      <td>...</td>\n",
       "      <td>...</td>\n",
       "      <td>...</td>\n",
       "      <td>...</td>\n",
       "      <td>...</td>\n",
       "      <td>...</td>\n",
       "      <td>...</td>\n",
       "      <td>...</td>\n",
       "      <td>...</td>\n",
       "      <td>...</td>\n",
       "      <td>...</td>\n",
       "      <td>...</td>\n",
       "      <td>...</td>\n",
       "    </tr>\n",
       "    <tr>\n",
       "      <th>117024</th>\n",
       "      <td>6900</td>\n",
       "      <td>2008.0</td>\n",
       "      <td>210994.0</td>\n",
       "      <td>249</td>\n",
       "      <td>0</td>\n",
       "      <td>0</td>\n",
       "      <td>0</td>\n",
       "      <td>0</td>\n",
       "      <td>0</td>\n",
       "      <td>0</td>\n",
       "      <td>...</td>\n",
       "      <td>1</td>\n",
       "      <td>0</td>\n",
       "      <td>0</td>\n",
       "      <td>0</td>\n",
       "      <td>0</td>\n",
       "      <td>0</td>\n",
       "      <td>0</td>\n",
       "      <td>0</td>\n",
       "      <td>0</td>\n",
       "      <td>0</td>\n",
       "    </tr>\n",
       "    <tr>\n",
       "      <th>117025</th>\n",
       "      <td>29930</td>\n",
       "      <td>2016.0</td>\n",
       "      <td>30383.0</td>\n",
       "      <td>2371</td>\n",
       "      <td>0</td>\n",
       "      <td>0</td>\n",
       "      <td>0</td>\n",
       "      <td>0</td>\n",
       "      <td>0</td>\n",
       "      <td>0</td>\n",
       "      <td>...</td>\n",
       "      <td>1</td>\n",
       "      <td>0</td>\n",
       "      <td>0</td>\n",
       "      <td>0</td>\n",
       "      <td>0</td>\n",
       "      <td>0</td>\n",
       "      <td>0</td>\n",
       "      <td>0</td>\n",
       "      <td>0</td>\n",
       "      <td>0</td>\n",
       "    </tr>\n",
       "    <tr>\n",
       "      <th>117026</th>\n",
       "      <td>24900</td>\n",
       "      <td>2017.0</td>\n",
       "      <td>27100.0</td>\n",
       "      <td>736</td>\n",
       "      <td>0</td>\n",
       "      <td>0</td>\n",
       "      <td>0</td>\n",
       "      <td>1</td>\n",
       "      <td>0</td>\n",
       "      <td>0</td>\n",
       "      <td>...</td>\n",
       "      <td>0</td>\n",
       "      <td>0</td>\n",
       "      <td>0</td>\n",
       "      <td>0</td>\n",
       "      <td>0</td>\n",
       "      <td>0</td>\n",
       "      <td>0</td>\n",
       "      <td>0</td>\n",
       "      <td>0</td>\n",
       "      <td>0</td>\n",
       "    </tr>\n",
       "    <tr>\n",
       "      <th>117027</th>\n",
       "      <td>46995</td>\n",
       "      <td>2019.0</td>\n",
       "      <td>55000.0</td>\n",
       "      <td>493</td>\n",
       "      <td>0</td>\n",
       "      <td>0</td>\n",
       "      <td>0</td>\n",
       "      <td>0</td>\n",
       "      <td>0</td>\n",
       "      <td>0</td>\n",
       "      <td>...</td>\n",
       "      <td>0</td>\n",
       "      <td>0</td>\n",
       "      <td>0</td>\n",
       "      <td>0</td>\n",
       "      <td>0</td>\n",
       "      <td>0</td>\n",
       "      <td>0</td>\n",
       "      <td>0</td>\n",
       "      <td>0</td>\n",
       "      <td>0</td>\n",
       "    </tr>\n",
       "    <tr>\n",
       "      <th>117028</th>\n",
       "      <td>2450</td>\n",
       "      <td>2001.0</td>\n",
       "      <td>130484.0</td>\n",
       "      <td>344</td>\n",
       "      <td>0</td>\n",
       "      <td>0</td>\n",
       "      <td>0</td>\n",
       "      <td>0</td>\n",
       "      <td>0</td>\n",
       "      <td>0</td>\n",
       "      <td>...</td>\n",
       "      <td>0</td>\n",
       "      <td>0</td>\n",
       "      <td>0</td>\n",
       "      <td>0</td>\n",
       "      <td>0</td>\n",
       "      <td>0</td>\n",
       "      <td>0</td>\n",
       "      <td>0</td>\n",
       "      <td>0</td>\n",
       "      <td>0</td>\n",
       "    </tr>\n",
       "  </tbody>\n",
       "</table>\n",
       "<p>117029 rows × 153 columns</p>\n",
       "</div>"
      ],
      "text/plain": [
       "        price    year  odometer  description_length  manufacturer_0  \\\n",
       "0        9000  2004.0   54000.0                 470               0   \n",
       "1        8500  2005.0   62800.0                 718               0   \n",
       "2        2750  2006.0  165000.0                 280               0   \n",
       "3       24930  2017.0   32989.0                 978               0   \n",
       "4        3200  1998.0   98186.0                 193               0   \n",
       "...       ...     ...       ...                 ...             ...   \n",
       "117024   6900  2008.0  210994.0                 249               0   \n",
       "117025  29930  2016.0   30383.0                2371               0   \n",
       "117026  24900  2017.0   27100.0                 736               0   \n",
       "117027  46995  2019.0   55000.0                 493               0   \n",
       "117028   2450  2001.0  130484.0                 344               0   \n",
       "\n",
       "        manufacturer_1  manufacturer_2  manufacturer_3  manufacturer_4  \\\n",
       "0                    0               0               0               0   \n",
       "1                    0               0               0               0   \n",
       "2                    0               0               0               0   \n",
       "3                    0               0               0               0   \n",
       "4                    0               0               0               0   \n",
       "...                ...             ...             ...             ...   \n",
       "117024               0               0               0               0   \n",
       "117025               0               0               0               0   \n",
       "117026               0               0               1               0   \n",
       "117027               0               0               0               0   \n",
       "117028               0               0               0               0   \n",
       "\n",
       "        manufacturer_5  ...  state_41  state_42  state_43  state_44  state_45  \\\n",
       "0                    0  ...         0         0         0         0         0   \n",
       "1                    0  ...         0         0         0         0         0   \n",
       "2                    0  ...         0         0         0         0         0   \n",
       "3                    0  ...         0         0         0         0         0   \n",
       "4                    0  ...         0         0         0         0         0   \n",
       "...                ...  ...       ...       ...       ...       ...       ...   \n",
       "117024               0  ...         1         0         0         0         0   \n",
       "117025               0  ...         1         0         0         0         0   \n",
       "117026               0  ...         0         0         0         0         0   \n",
       "117027               0  ...         0         0         0         0         0   \n",
       "117028               0  ...         0         0         0         0         0   \n",
       "\n",
       "        state_46  state_47  state_48  state_49  state_50  \n",
       "0              0         0         0         0         0  \n",
       "1              0         0         0         0         0  \n",
       "2              0         0         0         0         0  \n",
       "3              0         0         0         0         0  \n",
       "4              0         0         0         0         0  \n",
       "...          ...       ...       ...       ...       ...  \n",
       "117024         0         0         0         0         0  \n",
       "117025         0         0         0         0         0  \n",
       "117026         0         0         0         0         0  \n",
       "117027         0         0         0         0         0  \n",
       "117028         0         0         0         0         0  \n",
       "\n",
       "[117029 rows x 153 columns]"
      ]
     },
     "execution_count": 16,
     "metadata": {},
     "output_type": "execute_result"
    }
   ],
   "source": [
    "dfModel"
   ]
  },
  {
   "cell_type": "markdown",
   "metadata": {},
   "source": [
    "## Sequential Deep Learning Model"
   ]
  },
  {
   "cell_type": "code",
   "execution_count": 17,
   "metadata": {},
   "outputs": [
    {
     "name": "stderr",
     "output_type": "stream",
     "text": [
      "Using TensorFlow backend.\n"
     ]
    }
   ],
   "source": [
    "import tensorflow as tf\n",
    "import keras"
   ]
  },
  {
   "cell_type": "code",
   "execution_count": 18,
   "metadata": {},
   "outputs": [],
   "source": [
    "from sklearn.model_selection import train_test_split\n",
    "\n",
    "# Split data into test and train \n",
    "train, test = train_test_split(dfModel, test_size=0.3)"
   ]
  },
  {
   "cell_type": "code",
   "execution_count": 19,
   "metadata": {},
   "outputs": [],
   "source": [
    "# Seperate features and targets\n",
    "X_train = train.drop(columns=['price'])\n",
    "Y_train = train[['price']]\n",
    "\n",
    "X_test = test.drop(columns=['price'])\n",
    "Y_test = test[['price']]"
   ]
  },
  {
   "cell_type": "code",
   "execution_count": 24,
   "metadata": {},
   "outputs": [],
   "source": [
    "# Define model\n",
    "model = keras.Sequential()\n",
    "\n",
    "model.add(keras.layers.Dense(152, activation='relu', input_shape=(152,)))\n",
    "model.add(keras.layers.Dense(75))\n",
    "model.add(keras.layers.Dense(50))\n",
    "model.add(keras.layers.Dense(1))"
   ]
  },
  {
   "cell_type": "code",
   "execution_count": 31,
   "metadata": {},
   "outputs": [],
   "source": [
    "# Define model\n",
    "model = keras.Sequential()\n",
    "\n",
    "model.add(keras.layers.Dense(152, activation='selu', input_shape=(152,)))\n",
    "model.add(keras.layers.Dense(75))\n",
    "model.add(keras.layers.Dense(50))\n",
    "model.add(keras.layers.Dense(1))"
   ]
  },
  {
   "cell_type": "code",
   "execution_count": 32,
   "metadata": {},
   "outputs": [],
   "source": [
    "# Compile Model\n",
    "model.compile(optimizer='Adam', loss='mean_squared_error')"
   ]
  },
  {
   "cell_type": "code",
   "execution_count": 33,
   "metadata": {},
   "outputs": [
    {
     "name": "stdout",
     "output_type": "stream",
     "text": [
      "Train on 81920 samples, validate on 35109 samples\n",
      "Epoch 1/100\n",
      "81920/81920 [==============================] - 7s 84us/step - loss: 96166071.2195 - val_loss: 67726132.6287\n",
      "Epoch 2/100\n",
      "81920/81920 [==============================] - 6s 74us/step - loss: 75826239.5422 - val_loss: 63653133.9721\n",
      "Epoch 3/100\n",
      "81920/81920 [==============================] - 6s 75us/step - loss: 64599128.5633 - val_loss: 62676145.9062\n",
      "Epoch 4/100\n",
      "81920/81920 [==============================] - 7s 86us/step - loss: 63364469.8699 - val_loss: 62094395.9745\n",
      "Epoch 5/100\n",
      "81920/81920 [==============================] - 6s 79us/step - loss: 62217631.0664 - val_loss: 61391773.1010\n",
      "Epoch 6/100\n",
      "81920/81920 [==============================] - 6s 77us/step - loss: 62567771.5355 - val_loss: 62341496.2748\n",
      "Epoch 7/100\n",
      "81920/81920 [==============================] - 6s 76us/step - loss: 61847276.1277 - val_loss: 59116196.1310\n",
      "Epoch 8/100\n",
      "81920/81920 [==============================] - 6s 75us/step - loss: 63613676.5477 - val_loss: 61885187.3447\n",
      "Epoch 9/100\n",
      "81920/81920 [==============================] - 6s 77us/step - loss: 60520402.6512 - val_loss: 56566578.9411\n",
      "Epoch 10/100\n",
      "81920/81920 [==============================] - 6s 76us/step - loss: 64045660.6732 - val_loss: 61908970.5318\n",
      "Epoch 11/100\n",
      "81920/81920 [==============================] - 6s 75us/step - loss: 60096491.1926 - val_loss: 51801621.5766\n",
      "Epoch 12/100\n",
      "81920/81920 [==============================] - 6s 76us/step - loss: 60713145.6688 - val_loss: 58553167.0665\n",
      "Epoch 13/100\n",
      "81920/81920 [==============================] - 7s 91us/step - loss: 60106814.8438 - val_loss: 52724012.7086\n",
      "Epoch 14/100\n",
      "81920/81920 [==============================] - 7s 88us/step - loss: 72365494.1840 - val_loss: 61150146.5649\n",
      "Epoch 15/100\n",
      "81920/81920 [==============================] - 8s 96us/step - loss: 62610975.3096 - val_loss: 52385589.6986\n",
      "Epoch 16/100\n",
      "81920/81920 [==============================] - 7s 87us/step - loss: 60222304.2492 - val_loss: 53952998.2074\n"
     ]
    },
    {
     "data": {
      "text/plain": [
       "<keras.callbacks.callbacks.History at 0x1bc11885198>"
      ]
     },
     "execution_count": 33,
     "metadata": {},
     "output_type": "execute_result"
    }
   ],
   "source": [
    "# Fit model\n",
    "model.fit(X_train, Y_train, epochs=100, batch_size=32, validation_data=(X_test, Y_test),\n",
    "          callbacks=[keras.callbacks.EarlyStopping(patience=5)])"
   ]
  },
  {
   "cell_type": "code",
   "execution_count": 34,
   "metadata": {},
   "outputs": [
    {
     "name": "stdout",
     "output_type": "stream",
     "text": [
      "35109/35109 [==============================] - 1s 33us/step\n",
      "81920/81920 [==============================] - 2s 26us/step\n"
     ]
    }
   ],
   "source": [
    "# Evaluate model scores\n",
    "scoreTest = model.evaluate(X_test, Y_test, verbose=1)\n",
    "scoreTrain = model.evaluate(X_train, Y_train, verbose=1)"
   ]
  },
  {
   "cell_type": "code",
   "execution_count": 39,
   "metadata": {},
   "outputs": [],
   "source": [
    "# Save model for easy use\n",
    "model.save('C:/Users/sega9/Documents/IBM Data Science/Capstone/Models/deepLearningModel.h5')"
   ]
  },
  {
   "cell_type": "code",
   "execution_count": 92,
   "metadata": {},
   "outputs": [],
   "source": [
    "# Load previously run model\n",
    "from keras.models import load_model\n",
    "model = load_model('C:/Users/sega9/Documents/IBM Data Science/Capstone/Models/deepLearningModel.h5')"
   ]
  },
  {
   "cell_type": "code",
   "execution_count": 35,
   "metadata": {},
   "outputs": [
    {
     "data": {
      "image/png": "[encoded data removed]",
      "text/plain": [
       "<Figure size 432x288 with 1 Axes>"
      ]
     },
     "metadata": {
      "needs_background": "light"
     },
     "output_type": "display_data"
    }
   ],
   "source": [
    "from matplotlib import pyplot as plt\n",
    "\n",
    "test_predictions = model.predict(X_test).flatten()\n",
    "\n",
    "plt.scatter(Y_test, test_predictions)\n",
    "plt.xlabel('True Values [1000$]')\n",
    "plt.ylabel('Predictions [1000$]')\n",
    "plt.axis('scaled')\n",
    "# plt.xlim(plt.xlim())\n",
    "plt.ylim(bottom=0, top=60000)\n",
    "_ = plt.plot([-100, 100], [-100, 100])"
   ]
  },
  {
   "cell_type": "code",
   "execution_count": 36,
   "metadata": {},
   "outputs": [],
   "source": [
    "from sklearn.metrics import r2_score\n",
    "train_predictions = model.predict(X_train).flatten()\n",
    "\n",
    "# Determine r2 score for test and train data\n",
    "r2Test = r2_score(Y_test, test_predictions)\n",
    "r2Train = r2_score(Y_train, train_predictions)"
   ]
  },
  {
   "cell_type": "code",
   "execution_count": 114,
   "metadata": {},
   "outputs": [],
   "source": [
    "# Write results to text file\n",
    "text_file = open(\"deepLearningModel_Output.txt\", \"w\")\n",
    "text_file.write(\"Keras Squential Model Results:\")\n",
    "text_file.write(\"\\nr2 on training data: %f\" % r2Train)\n",
    "text_file.write(\"\\nRMSE on training data: %f\" % np.sqrt(scoreTrain[0]))\n",
    "\n",
    "text_file.write(\"\\nr2 on test data: %f\" % r2Test)\n",
    "text_file.write(\"\\nRMSE on test data: %f\" % np.sqrt(scoreTest[0]))\n",
    "text_file.close()"
   ]
  }
 ],
 "metadata": {
  "kernelspec": {
   "display_name": "Python 3",
   "language": "python",
   "name": "python3"
  },
  "language_info": {
   "codemirror_mode": {
    "name": "ipython",
    "version": 3
   },
   "file_extension": ".py",
   "mimetype": "text/x-python",
   "name": "python",
   "nbconvert_exporter": "python",
   "pygments_lexer": "ipython3",
   "version": "3.6.10"
  }
 },
 "nbformat": 4,
 "nbformat_minor": 2
}
